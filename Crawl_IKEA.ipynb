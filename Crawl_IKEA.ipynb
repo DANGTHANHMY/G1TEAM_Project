{
 "cells": [
  {
   "cell_type": "code",
   "execution_count": null,
   "metadata": {},
   "outputs": [],
   "source": [
    "#from selenium import webdriver\n",
    "from selenium.webdriver.common.by import By\n",
    "import undetected_chromedriver as uc\n",
    "from time import sleep\n",
    "import random\n",
    "import pandas as pd"
   ]
  },
  {
   "cell_type": "code",
   "execution_count": null,
   "metadata": {},
   "outputs": [],
   "source": [
    "options = uc.ChromeOptions()\n",
    "options.headless = False\n",
    "driver = driver = uc.Chrome(options=options)"
   ]
  },
  {
   "cell_type": "code",
   "execution_count": null,
   "metadata": {},
   "outputs": [],
   "source": [
    "df = pd.read_csv('ikea_products_snapshot_data.csv')\n",
    "df.head()"
   ]
  },
  {
   "cell_type": "code",
   "execution_count": null,
   "metadata": {},
   "outputs": [],
   "source": [
    "df['link'].head()"
   ]
  },
  {
   "cell_type": "code",
   "execution_count": null,
   "metadata": {},
   "outputs": [],
   "source": [
    "url = \"https://www.ikea.com/sa/en/p/dytag-cushion-cover-dark-beige-30528482/\"\n",
    "driver.get(url)\n",
    "sleep(random.randint(3, 7))"
   ]
  },
  {
   "cell_type": "code",
   "execution_count": null,
   "metadata": {},
   "outputs": [],
   "source": [
    "guarantee_list = []\n",
    "guarantee_elems = driver.find_elements(By.XPATH, \"//span[contains(@class, \\'pip-guarantee__text\\')]\")\n",
    "\n",
    "if len(guarantee_elems) > 0:\n",
    "    for elem in guarantee_elems:\n",
    "        guarantee_list.append(elem) \n",
    "else:\n",
    "    guarantee_list.append(None)"
   ]
  },
  {
   "cell_type": "code",
   "execution_count": null,
   "metadata": {},
   "outputs": [],
   "source": [
    "product_features_list = []\n",
    "product_features_elems = driver.find_elements(By.CLASS_NAME, \"pip-key-facts\")\n",
    "\n",
    "if len(product_features_elems) > 0:\n",
    "    for elem in product_features_elems:\n",
    "        product_features_list.append(elem[0].text)\n",
    "else:\n",
    "    product_features_list.append(None)"
   ]
  },
  {
   "cell_type": "code",
   "execution_count": null,
   "metadata": {},
   "outputs": [],
   "source": [
    "summary_description_list = []\n",
    "summary_description_elems = driver.find_elements(By.CLASS_NAME , \"pip-product-summary__description\")\n",
    "\n",
    "for elem in summary_description_elems:\n",
    "    summary_description_list.append(summary_description_elems[0].text)"
   ]
  },
  {
   "cell_type": "code",
   "execution_count": null,
   "metadata": {},
   "outputs": [],
   "source": [
    "avg_rating_star_list = []\n",
    "avg_rating_number_list = []\n",
    "review_elems = driver.find_elements(By.CLASS_NAME, \"ugc-rr-pip-fe-product-reviews\")\n",
    "\n",
    "if len(review_elems) > 0:\n",
    "    for elem in review_elems:\n",
    "        avg_rating_star_elem = driver.find_element(By.XPATH, \"//span[contains(@class, \\'ugc-rr-pip-fe-average-rating__header\\')]\")\n",
    "        avg_rating_star_list.append(avg_rating_star_elem)\n",
    "        \n",
    "        avg_rating_number_elem = driver.find_element(By.XPATH, \"//span[contains(@class, \\'ugc-rr-pip-fe-average-rating__reviews\\')]\")\n",
    "        avg_rating_number_list.append(avg_rating_number_elem)\n",
    "else:\n",
    "    avg_rating_star_list.append(None)\n",
    "    avg_rating_number_list.append(None)"
   ]
  },
  {
   "cell_type": "code",
   "execution_count": null,
   "metadata": {},
   "outputs": [],
   "source": [
    "#image_links_elems = driver.find_elements(By.XPATH, \"//span[contains(@class, \\'pip-aspect-ratio-box pip-aspect-ratio-box--square pip-media-grid__media-image \\')]\")\n",
    "img_elems = driver.find_elements(By.TAG_NAME, 'img')\n",
    "image_urls = []\n",
    "for img_elem in img_elems:\n",
    "    alt_text = img_elem.get_attribute('alt')\n",
    "    if alt_text is not None:\n",
    "        image_url = img_elem.get_attribute('srcset')\n",
    "        image_urls.append(image_url)\n",
    "\n",
    "print(image_urls)"
   ]
  },
  {
   "cell_type": "code",
   "execution_count": null,
   "metadata": {},
   "outputs": [],
   "source": [
    "driver.close()"
   ]
  }
 ],
 "metadata": {
  "language_info": {
   "name": "python"
  }
 },
 "nbformat": 4,
 "nbformat_minor": 2
}
